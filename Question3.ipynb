{
 "cells": [
  {
   "cell_type": "code",
   "execution_count": 3,
   "metadata": {},
   "outputs": [
    {
     "name": "stdout",
     "output_type": "stream",
     "text": [
      "Linked List after removing loop\n",
      "57\n",
      "256\n",
      "156\n",
      "46\n",
      "104\n"
     ]
    }
   ],
   "source": [
    "# THIS IS THE PROGRAM TO DETECT AND REMOVE LOOP IN A LINKED LIST\n",
    "\n",
    "\n",
    "\n",
    "class Node: \n",
    "    def __init__(self, data): \n",
    "        self.data = data \n",
    "        self.next = None\n",
    "class LinkedList:  \n",
    "    def __init__(self): \n",
    "        self.head = None\n",
    "    def detectAndRemoveLoop(self): \n",
    "        slow_p = fast_p = self.head \n",
    "        while(slow_p and fast_p and fast_p.next): \n",
    "            slow_p = slow_p.next \n",
    "            fast_p = fast_p.next.next\n",
    "            if slow_p == fast_p: \n",
    "                self.removeLoop(slow_p) \n",
    "                return 1  \n",
    "        return 0\n",
    "    def removeLoop(self, loop_node):  \n",
    "        ptr1 = self.head \n",
    "        while(1):  \n",
    "            ptr2 = loop_node \n",
    "            while(ptr2.next != loop_node and ptr2.next != ptr1): \n",
    "                ptr2 = ptr2.next \n",
    "            if ptr2.next == ptr1 :  \n",
    "                break \n",
    "            ptr1 = ptr1.next\n",
    "        ptr2.next = None \n",
    "    def push(self, new_data): \n",
    "        new_node = Node(new_data) \n",
    "        new_node.next = self.head \n",
    "        self.head = new_node  \n",
    "    def printList(self): \n",
    "        temp = self.head \n",
    "        while(temp): \n",
    "            print (temp.data) \n",
    "            temp = temp.next \n",
    "llist = LinkedList() \n",
    "llist.push(104) \n",
    "llist.push(46) \n",
    "llist.push(156) \n",
    "llist.push(256) \n",
    "llist.push(57) \n",
    "llist.head.next.next.next.next.next = llist.head.next.next\n",
    "llist.detectAndRemoveLoop() \n",
    "print (\"Linked List after removing loop\")\n",
    "llist.printList()"
   ]
  },
  {
   "cell_type": "code",
   "execution_count": null,
   "metadata": {},
   "outputs": [],
   "source": []
  }
 ],
 "metadata": {
  "kernelspec": {
   "display_name": "Python 3",
   "language": "python",
   "name": "python3"
  },
  "language_info": {
   "codemirror_mode": {
    "name": "ipython",
    "version": 3
   },
   "file_extension": ".py",
   "mimetype": "text/x-python",
   "name": "python",
   "nbconvert_exporter": "python",
   "pygments_lexer": "ipython3",
   "version": "3.7.6"
  }
 },
 "nbformat": 4,
 "nbformat_minor": 4
}
