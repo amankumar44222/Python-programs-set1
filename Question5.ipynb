{
 "cells": [
  {
   "cell_type": "code",
   "execution_count": 1,
   "metadata": {},
   "outputs": [
    {
     "name": "stdout",
     "output_type": "stream",
     "text": [
      "Maximum height of tree is 3\n"
     ]
    }
   ],
   "source": [
    "#THIS IS THE PROGRAM TO FIND THE MAXIMUM DEPTH OR HEIGH OF A TREE\n",
    "\n",
    "\n",
    "class Node: \n",
    "    def __init__(self, data): \n",
    "        self.data = data \n",
    "        self.left = None\n",
    "        self.right = None\n",
    "def maxDepth(node): \n",
    "    if node is None: \n",
    "        return 0 ;  \n",
    "    else : \n",
    "        lDepth = maxDepth(node.left) \n",
    "        rDepth = maxDepth(node.right) \n",
    "        if (lDepth > rDepth): \n",
    "            return lDepth+1\n",
    "        else: \n",
    "            return rDepth+1\n",
    "root = Node(16) \n",
    "root.left = Node(23) \n",
    "root.right = Node(34) \n",
    "root.left.left = Node(54) \n",
    "root.left.right = Node(57) \n",
    "print (\"Maximum height of tree is %d\" %(maxDepth(root))) "
   ]
  },
  {
   "cell_type": "code",
   "execution_count": null,
   "metadata": {},
   "outputs": [],
   "source": []
  }
 ],
 "metadata": {
  "kernelspec": {
   "display_name": "Python 3",
   "language": "python",
   "name": "python3"
  },
  "language_info": {
   "codemirror_mode": {
    "name": "ipython",
    "version": 3
   },
   "file_extension": ".py",
   "mimetype": "text/x-python",
   "name": "python",
   "nbconvert_exporter": "python",
   "pygments_lexer": "ipython3",
   "version": "3.7.6"
  }
 },
 "nbformat": 4,
 "nbformat_minor": 4
}
