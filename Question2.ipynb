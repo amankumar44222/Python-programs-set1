{
 "cells": [
  {
   "cell_type": "code",
   "execution_count": 1,
   "metadata": {},
   "outputs": [
    {
     "name": "stdout",
     "output_type": "stream",
     "text": [
      "Enter the value of n5\n",
      "Move disk 1 from rod A to rod C\n",
      "Move disk 2 from rod A to rod B\n",
      "Move disk 1 from rod C to rod B\n",
      "Move disk 3 from rod A to rod C\n",
      "Move disk 1 from rod B to rod A\n",
      "Move disk 2 from rod B to rod C\n",
      "Move disk 1 from rod A to rod C\n",
      "Move disk 4 from rod A to rod B\n",
      "Move disk 1 from rod C to rod B\n",
      "Move disk 2 from rod C to rod A\n",
      "Move disk 1 from rod B to rod A\n",
      "Move disk 3 from rod C to rod B\n",
      "Move disk 1 from rod A to rod C\n",
      "Move disk 2 from rod A to rod B\n",
      "Move disk 1 from rod C to rod B\n",
      "Move disk 5 from rod A to rod C\n",
      "Move disk 1 from rod B to rod A\n",
      "Move disk 2 from rod B to rod C\n",
      "Move disk 1 from rod A to rod C\n",
      "Move disk 3 from rod B to rod A\n",
      "Move disk 1 from rod C to rod B\n",
      "Move disk 2 from rod C to rod A\n",
      "Move disk 1 from rod B to rod A\n",
      "Move disk 4 from rod B to rod C\n",
      "Move disk 1 from rod A to rod C\n",
      "Move disk 2 from rod A to rod B\n",
      "Move disk 1 from rod C to rod B\n",
      "Move disk 3 from rod A to rod C\n",
      "Move disk 1 from rod B to rod A\n",
      "Move disk 2 from rod B to rod C\n",
      "Move disk 1 from rod A to rod C\n"
     ]
    }
   ],
   "source": [
    "#THIS IS THE PROGRAM TO SOLVE TOWER OF HANOI PROBLEM\n",
    "\n",
    "def TowerOfHanoi(n , fr, tr, ar): \n",
    "    if n == 1: \n",
    "        print (\"Move disk 1 from rod\",fr,\"to rod\",tr) \n",
    "        return\n",
    "    TowerOfHanoi(n-1, fr, ar, tr) \n",
    "    print (\"Move disk\",n,\"from rod\",fr,\"to rod\",tr) \n",
    "    TowerOfHanoi(n-1, ar, tr, fr) \n",
    "n = int(input(\"Enter the value of n\"))\n",
    "TowerOfHanoi(n, 'A', 'C', 'B')  "
   ]
  },
  {
   "cell_type": "code",
   "execution_count": null,
   "metadata": {},
   "outputs": [],
   "source": []
  }
 ],
 "metadata": {
  "kernelspec": {
   "display_name": "Python 3",
   "language": "python",
   "name": "python3"
  },
  "language_info": {
   "codemirror_mode": {
    "name": "ipython",
    "version": 3
   },
   "file_extension": ".py",
   "mimetype": "text/x-python",
   "name": "python",
   "nbconvert_exporter": "python",
   "pygments_lexer": "ipython3",
   "version": "3.7.6"
  }
 },
 "nbformat": 4,
 "nbformat_minor": 4
}
