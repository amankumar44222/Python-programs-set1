{
 "cells": [
  {
   "cell_type": "code",
   "execution_count": 2,
   "metadata": {},
   "outputs": [
    {
     "name": "stdout",
     "output_type": "stream",
     "text": [
      "Items in the heap:\n",
      "1\n",
      "3\n",
      "2\n",
      "The smallest item in the heap:\n",
      "1\n",
      "Heap after poping the smallest item in the heap:\n",
      "2\n",
      "3\n"
     ]
    }
   ],
   "source": [
    "\"\"\"THIS IS THE PROGRAM TO PUSH THREE ITEMS INTO A HEAP AND THAN RETURNING THE SMALLEST ITEM AND ALSO PRINTING THE ITEMS AFTER\n",
    "   REMOVING THE SMALLEST ITEM\n",
    "\"\"\"   \n",
    "\n",
    "\n",
    "import heapq\n",
    "heap = []\n",
    "heapq.heappush(heap,3)\n",
    "heapq.heappush(heap,2)\n",
    "heapq.heappush(heap,1)\n",
    "print(\"Items in the heap:\")\n",
    "for a in heap:\n",
    "    print(a)\n",
    "print(\"The smallest item in the heap:\")\n",
    "print(heap[0])\n",
    "print(\"Heap after poping the smallest item in the heap:\")\n",
    "heapq.heappop(heap)\n",
    "for a in heap:\n",
    "    print(a)"
   ]
  },
  {
   "cell_type": "code",
   "execution_count": null,
   "metadata": {},
   "outputs": [],
   "source": []
  }
 ],
 "metadata": {
  "kernelspec": {
   "display_name": "Python 3",
   "language": "python",
   "name": "python3"
  },
  "language_info": {
   "codemirror_mode": {
    "name": "ipython",
    "version": 3
   },
   "file_extension": ".py",
   "mimetype": "text/x-python",
   "name": "python",
   "nbconvert_exporter": "python",
   "pygments_lexer": "ipython3",
   "version": "3.7.6"
  }
 },
 "nbformat": 4,
 "nbformat_minor": 4
}
